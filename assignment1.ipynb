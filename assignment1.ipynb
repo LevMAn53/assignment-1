{
 "cells": [
  {
   "cell_type": "code",
   "execution_count": null,
   "id": "afd9b0e2-15bb-47c1-87f0-7411641fc61c",
   "metadata": {},
   "outputs": [],
   "source": [
    "#assignment1.1\n",
    "\n",
    "digit = input(\"enter the first digit: \")\n",
    "digit2 = input(\"enter the second digit: \")\n",
    "sum = float(digit) + float(digit2)\n",
    "print(sum)"
   ]
  },
  {
   "cell_type": "code",
   "execution_count": null,
   "id": "be3c0d60-df9c-4430-a1fc-8853ed6bbfaf",
   "metadata": {},
   "outputs": [],
   "source": [
    "#assignment1.2\n",
    "\n",
    "print(\"Hi, user! Ready to rock some temperature calculations? If so, input the numbers to see the equivalent in Farenheit or Celsius\")\n",
    "\n",
    "temp = input(\"Enter temperature Celsius using C or in Farenheit using F\")\n",
    "if temp[-1] == \"C\":\n",
    "    temperature = (9/5 * float(temp[:-1]) + 32)\n",
    "    temperature = str(temperature) + \"F\"\n",
    "    print(temperature)\n",
    "elif temp[-1] == \"F\":\n",
    "    temperature2 = (float(temp[:-1])-32) * 5/9\n",
    "    temperature_C = str(temperature2) + \"C\"\n",
    "    print(temperature_C)\n",
    "else:\n",
    "    print(\"Invalid input. Please enter the temperature followed by 'C' or 'F'.\")"
   ]
  },
  {
   "cell_type": "code",
   "execution_count": null,
   "id": "a812aabe-bab7-423a-80bc-bb619178109d",
   "metadata": {},
   "outputs": [],
   "source": []
  }
 ],
 "metadata": {
  "kernelspec": {
   "display_name": "Python 3 (ipykernel)",
   "language": "python",
   "name": "python3"
  },
  "language_info": {
   "codemirror_mode": {
    "name": "ipython",
    "version": 3
   },
   "file_extension": ".py",
   "mimetype": "text/x-python",
   "name": "python",
   "nbconvert_exporter": "python",
   "pygments_lexer": "ipython3",
   "version": "3.12.4"
  }
 },
 "nbformat": 4,
 "nbformat_minor": 5
}
